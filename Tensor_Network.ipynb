{
 "cells": [
  {
   "cell_type": "code",
   "execution_count": 3,
   "metadata": {},
   "outputs": [],
   "source": [
    "import math\n",
    "from scipy.linalg import sqrtm\n",
    "from ncon import ncon\n",
    "import numpy as np"
   ]
  },
  {
   "cell_type": "code",
   "execution_count": 4,
   "metadata": {},
   "outputs": [
    {
     "data": {
      "text/plain": [
       "1.3073684577607945"
      ]
     },
     "execution_count": 4,
     "metadata": {},
     "output_type": "execute_result"
    }
   ],
   "source": [
    "beta=1\n",
    "J=np.loadtxt('J.data')\n",
    "inx=1\n",
    "B=np.array(sqrtm(np.array([[np.exp(-beta),np.exp(beta)],[np.exp(beta),np.exp(-beta)]]))) # the Boltzmann matrix\n",
    "A3=np.einsum(\"i,j,k->ijk\",B[:,0],B[:,0],B[:,0])+np.einsum(\"i,j,k->ijk\",B[:,1],B[:,1],B[:,1]) #A3=torch.einsum(\"ij,ab,cd,jbd->iac\",[B,B,B,I3])     \n",
    "tensors=[A3 for i in range(60)]\n",
    "vs=[]\n",
    "c=np.zeros((60,60),dtype=int)\n",
    "\n",
    "for i in range(60):\n",
    "    v=[]\n",
    "    for j in range(i+1,60):\n",
    "        if np.abs(J[i,j]-1)<0.01:\n",
    "            c[i,j]=inx\n",
    "            c[j,i]=inx\n",
    "            v.append(inx)\n",
    "            inx=inx+1\n",
    "    for j in range(0,i):\n",
    "        if c[i,j]!=0:\n",
    "            v.append(c[i,j])\n",
    "        \n",
    "    vs.append(v)\n",
    "lnZ=np.log(ncon(tensors,vs))/60\n",
    "lnZ.real"
   ]
  },
  {
   "cell_type": "code",
   "execution_count": null,
   "metadata": {},
   "outputs": [],
   "source": []
  }
 ],
 "metadata": {
  "@webio": {
   "lastCommId": null,
   "lastKernelId": null
  },
  "kernelspec": {
   "display_name": "school",
   "language": "python",
   "name": "school"
  },
  "language_info": {
   "codemirror_mode": {
    "name": "ipython",
    "version": 3
   },
   "file_extension": ".py",
   "mimetype": "text/x-python",
   "name": "python",
   "nbconvert_exporter": "python",
   "pygments_lexer": "ipython3",
   "version": "3.6.8"
  }
 },
 "nbformat": 4,
 "nbformat_minor": 2
}
